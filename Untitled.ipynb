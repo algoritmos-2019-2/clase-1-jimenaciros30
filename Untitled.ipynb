{
 "cells": [
  {
   "cell_type": "markdown",
   "metadata": {},
   "source": [
    "# Funciones listas y tuplas\n",
    "Responda las siguientes Preguntas\n",
    "Funciones\n",
    "\n",
    "1. ¿Por qué son ventajosas las funciones para tener en sus programas?\n",
    "Porque permiten disminuir la probabilidad de tener errores al correr los codigos, ya que al tener funciones ya no es necesario escribir bloques de codigos que hagan lo que la funcion hace, de manera que el codigo sera mas pequeño y rapido.\n",
    "2. ¿Cuándo se ejecuta el código en una función: cuando se define la función o cuando se llama a la función?\n",
    "Se ejecuta el codigo en una funcion cuando se manda llamar a la funcion, por ejemplo, print “funcion”, siendo “funcion” la funcion previamente definida.\n",
    "3. ¿Qué enunciado crea una función?\n",
    "Para crear una funcion, se debe poner al inicio del codigo lo siguiente: \n",
    "      >  def NOMBRE(LISTA DE PARAMETROS):\n",
    "          SENTENCIAS\n",
    "4. ¿Cuál es la diferencia entre una función y una llamada de función?\n",
    "    ¿Cuántos ámbitos globales hay en un programa de Python? ¿Cuántos ámbitos locales?\n",
    "    ¿Qué sucede con las variables en un ámbito local cuando se devuelve la llamada a la función?\n",
    "    ¿Qué es un valor de retorno? ¿Puede un valor de retorno ser parte de una expresión?\n",
    "    Si una función no tiene una declaración de retorno, ¿cuál es el valor de retorno de una llamada a esa función?.\n",
    "    ¿Cómo puede forzar una variable en una función para referirse a la variable global?\n",
    "    ¿Cuál es el tipo de datos de None?\n",
    "    ¿Qué hace la declaración import random?\n",
    "    Si tuviera una función llamada randint() en un módulo llamado random, ¿cómo lo llamaría después de importar random?\n",
    "\n"
   ]
  },
  {
   "cell_type": "code",
   "execution_count": null,
   "metadata": {},
   "outputs": [],
   "source": []
  },
  {
   "cell_type": "code",
   "execution_count": null,
   "metadata": {},
   "outputs": [],
   "source": []
  },
  {
   "cell_type": "code",
   "execution_count": null,
   "metadata": {},
   "outputs": [],
   "source": [
    "def testprime():\n",
    "    "
   ]
  }
 ],
 "metadata": {
  "kernelspec": {
   "display_name": "Python 3",
   "language": "python",
   "name": "python3"
  },
  "language_info": {
   "codemirror_mode": {
    "name": "ipython",
    "version": 3
   },
   "file_extension": ".py",
   "mimetype": "text/x-python",
   "name": "python",
   "nbconvert_exporter": "python",
   "pygments_lexer": "ipython3",
   "version": "3.7.1"
  }
 },
 "nbformat": 4,
 "nbformat_minor": 2
}
