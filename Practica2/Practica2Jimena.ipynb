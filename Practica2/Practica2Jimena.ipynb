{
 "cells": [
  {
   "cell_type": "markdown",
   "metadata": {},
   "source": [
    "# Funciones listas y tuplas\n",
    "\n",
    "## Responda las siguientes Preguntas"
   ]
  },
  {
   "cell_type": "markdown",
   "metadata": {},
   "source": [
    "### Funciones\n",
    "\n",
    "* ¿Por qué son ventajosas las funciones para tener en sus programas?\n",
    "\n",
    "Porque permiten disminuir la probabilidad de tener errores al correr los codigos, ya que al tener funciones ya no es necesario escribir bloques de codigos que hagan lo que la funcion hace, de manera que el codigo sera mas pequeño y rapido.\n",
    "* ¿Cuándo se ejecuta el código en una función: cuando se define la función o cuando se llama a la función?\n",
    "\n",
    "Se ejecuta el codigo en una funcion cuando se manda llamar a la funcion, por ejemplo, print “funcion”, siendo “funcion” la funcion previamente definida.\n",
    "* ¿Qué enunciado crea una función?\n",
    "\n",
    "Para crear una funcion, se debe poner al inicio del codigo lo siguiente: \n",
    "      >  def NOMBRE(LISTA DE PARAMETROS):\n",
    "          SENTENCIAS\n",
    "* ¿Cuál es la diferencia entre una función y una llamada de función?\n",
    "\n",
    "Una funcion es aquella que se define, es una secuencia de sentencias que ejecuta una operación deseada y una LLAMADA DE FUNCIÓN es aquella que ejecuta la funcion previamente definida, contiene el nombre de la funcion a ejecutar seguida por la lista de valores llamados argumentos, que se asignan al los parametros en la definicion de funcion.\n",
    "* ¿Cuántos ámbitos globales hay en un programa de Python? ¿Cuántos ámbitos locales?\n",
    "\n",
    "Se pueden definir tantos ambitos globales y locales como nosotros queramos, pero las variables locales se contraponen a las variables globales.\n",
    "* ¿Qué sucede con las variables en un ámbito local cuando se devuelve la llamada a la función?\n",
    "\n",
    "Como la variable local se define dentro de una función, entonces al momento de devolver la llamada a la función dicha variable también se ejecuta.\n",
    "* ¿Qué es un valor de retorno? ¿Puede un valor de retorno ser parte de una expresión?\n",
    "\n",
    "Un valor de retorno sirve para forzar una salida inmediata de la función en que se encuentra, es decir, hace que la ejecución del programa vuelva al código que llamó a la función. Además, se puede utilizar para devolver un valor.\n",
    " \n",
    "* Si una función no tiene una declaración de retorno, ¿cuál es el valor de retorno de una llamada a esa función?.\n",
    "\n",
    "Si una función no tiene una declaración de retorno, cuando esta finaliza se devuelve un valor, pero dicho valor no se encuentra definido, de manera que puede devolver cualquier cosa, solo si se quiere retornar un determinado valor se debe usar la sentencia return. \n",
    "* ¿Cómo puede forzar una variable en una función para referirse a la variable global?\n",
    "\n",
    "Una variable global  se define fuera del cuerpo de cualquier función, normalmente al principio del programa, después de la definición de los archivos de biblioteca, de la definición de constantes simbólicas y antes de cualquier función. El ámbito de una variable global son todas las funciones que componen el programa, cualquier función puede acceder a dichas variables para leer y escribir en ellas. Es decir, se puede hacer referencia a su dirección de memoria en cualquier parte del programa; para poder llamarla se hace dentro de una funcion, por ejemplo:\n",
    "    var-global=10\n",
    "    def funcion():\n",
    "        print(\"La variable glogabl es\" + str(var-global))\n",
    "* ¿Cuál es el tipo de datos de ```None```?\n",
    "\n",
    "La sentencia None es de tipo de datos de valor nulo, y se utiliza para representar casos en que ningún valor es válido, o para indicar que una variable todavía no tiene un valor que tenga sentido.\n",
    "* ¿Qué hace la declaración ```import random```?\n",
    "\n",
    "La declaración \"import random\" importa paqueterias enteras, previamente definidas\n",
    "* Si tuviera una función llamada ```randint()``` en un módulo llamado ```random```, ¿cómo lo llamaría después de importar ```random```?\n",
    "\n",
    "Para poder importar la función randint se debe poner, por ejemplo, random.randint(1,n), dando como resultado la generacion de numeros aleatorios entre 1 y n, para dicho ejemplo. Otro ejemplo es:\n",
    "    from random import randint\n",
    "        print (randint(1,n))"
   ]
  },
  {
   "cell_type": "markdown",
   "metadata": {},
   "source": [
    "### Lista y tuplas\n",
    "* ¿Qué es ```[]```?\n",
    "\n",
    "Los signos [] indican que es una lista, dichas listas presentan una serie de funciones adicionales que permiten un amplio manejo de los valores que contienen.\n",
    "* ¿Cómo asignaría el valor ```'hola'``` como el tercer valor en una lista almacenada? en una variable llamada spam? \n",
    "\n",
    "Como spam.insert(3,\"hola\") o como spam = [1,2,3,\"hola\"]\n",
    "\n",
    "Supongamos que el ```spam``` contiene ```[2, 4, 6, 8, 10]```.) Para las siguientes tres preguntas, digamos que ```spam``` contiene la lista ```[2, 4, 6, 8, 10]```.\n",
    "* ¿Qué evalúa ```spam[int ('3' * 2) / 11]```?\n",
    "\n",
    "Multiplica el elemento 3 por 2 y lo divide entre 11.\n",
    "* ¿Qué evalúa ```spam[-1]```?\n",
    "\n",
    "Indica el ultimo elemento de la lista spam, en este caso es 10.\n",
    "* ¿Qué evalúa el ```spam[: 2]```?\n",
    "\n",
    "Muestra desde el primer elemento hasta el elemento 2.\n",
    "Para las siguientes tres preguntas, digamos que ```bacon``` contiene la lista ```[3.14, 'cat', 11, 'cat', True]```.\n",
    "* ¿Qué evalúa ```bacon.index('cat')```?\n",
    "\n",
    "Indica la posición en la cual esta 'cat' en la lista, en este caso en el valor 1.\n",
    "* ¿Qué evalúa ```bacon.append(99)```?\n",
    "\n",
    "Agrega el elemento 99 a la lista bacon.\n",
    "* ¿Qué hace ```bacon.remove('cat')```?\n",
    "\n",
    "Quita el elemento 'cat' de la lista bacon.\n",
    "* ¿Cuáles son los operadores para la concatenación de listas y la replicación de listas?\n",
    "\n",
    "El operador de concatenación es el único operador aritmético que se puede usar con cadenas mediante el símbolo +.\n",
    "* ¿Cuál es la diferencia entre los métodos de lista ```append()``` e ```insert()```?\n",
    "\n",
    "La principal diferencia es que con append solo agregamos un elemento a lista, al final, y con insert podemos indicar el lugar en donde queremos insertar dicho elemento.\n",
    "* ¿Cuál es la diferencia entre listas y tuplas?\n",
    "\n",
    "La lista es mutable, es decir podemos cambiar, quitar y agregar valores, en cambio las tuplas son inmutables, no tienen atributos, es decir que una vez creadas no pueden cambiarse."
   ]
  },
  {
   "cell_type": "markdown",
   "metadata": {},
   "source": [
    "### Proyecto Práctico \n",
    "\n",
    "Códifique las siguiente funciones:"
   ]
  },
  {
   "cell_type": "markdown",
   "metadata": {},
   "source": [
    "* ```testPrime()``` que verifique si un número es primo.\n",
    "* ```prime()``` que genere los primos menores o iguales que $n \\in \\mathbb{I}\\mathbb{N}$.\n",
    "* ```twinPrime()``` que regrese una tupla con los primos gemelos  menores o iguales que $n \\in \\mathbb{I}\\mathbb{N}$.\n",
    "* ```theoremArihtmetic()``` que regrese una lista con la descomposión en potencias de primos para cualquier $n \\in \\mathbb{I}\\mathbb{N}$.\n",
    "* ```mcm()``` que regrese el mínimo común multiplo de dos enteros.\n",
    "* ```MCD()``` que regrese el máximo común divisor de dos enteros."
   ]
  },
  {
   "cell_type": "code",
   "execution_count": 1,
   "metadata": {},
   "outputs": [],
   "source": [
    "#Los números primos son aquellos que solo son divisibles entre ellos mismos y el 1.\n",
    "\n",
    "def testPrime(n):\n",
    "    if n==2:\n",
    "        return True\n",
    "    if n%2==0:\n",
    "        return False\n",
    "    i=3\n",
    "    while i**2<=n:\n",
    "        if n%i==0:\n",
    "            return False\n",
    "        i=i+2\n",
    "    return True\n",
    "            "
   ]
  },
  {
   "cell_type": "code",
   "execution_count": 2,
   "metadata": {},
   "outputs": [
    {
     "data": {
      "text/plain": [
       "False"
      ]
     },
     "execution_count": 2,
     "metadata": {},
     "output_type": "execute_result"
    }
   ],
   "source": [
    "testPrime(9)"
   ]
  },
  {
   "cell_type": "code",
   "execution_count": 40,
   "metadata": {},
   "outputs": [
    {
     "name": "stdout",
     "output_type": "stream",
     "text": [
      "Introduce número5\n",
      "1 2\n",
      "2 3\n",
      "3 5\n",
      "4 7\n",
      "5 11\n"
     ]
    }
   ],
   "source": [
    "def prime(n):\n",
    "#Se utiliza la misma función para saber que números son primos\n",
    "#En este caso reescribimos la función testPrime()\n",
    "    if n==2:\n",
    "        return True\n",
    "    if n%2==0:\n",
    "        return False\n",
    "    i=3\n",
    "    while i**2<=n:\n",
    "        if n%i==0:\n",
    "            return False\n",
    "        i=i+2\n",
    "    return True\n",
    "#Posteriormente damos la instrucción para imprimir los primeros n números primos\n",
    "#Donde n es el valor que nosotros asignaremos\n",
    "n=int(input(\"Introduce número\"))\n",
    "primo=2\n",
    "count=1\n",
    "while count<=n:\n",
    "    if prime(primo):\n",
    "        print (count, primo)\n",
    "        count = count+1\n",
    "    primo=primo+1"
   ]
  },
  {
   "cell_type": "code",
   "execution_count": 38,
   "metadata": {},
   "outputs": [
    {
     "name": "stdout",
     "output_type": "stream",
     "text": [
      "Introduce primer número:5\n",
      "Introduce segundo número:8\n",
      "El minimo comun multiplo de  5  y  8  es 40\n"
     ]
    }
   ],
   "source": [
    "#El mínimo común múltiplo de dos o más números es el menor múltiplo común distinto de cero. \n",
    "#Para poder hallar el minimo común múltiplo se debe descomponer el número en factores primos.\n",
    "\n",
    "def mcm(x,y):\n",
    "    if x>y:\n",
    "        mayor=x\n",
    "    else:\n",
    "        mayor=y\n",
    "    while(True):\n",
    "        if((mayor%x==0)and(mayor%y==0)):\n",
    "            mcm=mayor\n",
    "            break\n",
    "        mayor+=1\n",
    "    return mcm\n",
    "x=int(input(\"Introduce primer número:\"))\n",
    "y=int(input(\"Introduce segundo número:\"))\n",
    "\n",
    "print(\"El minimo comun multiplo de \",x,\" y \",y,\" es\", mcm(x,y))"
   ]
  },
  {
   "cell_type": "code",
   "execution_count": 39,
   "metadata": {},
   "outputs": [
    {
     "data": {
      "text/plain": [
       "40"
      ]
     },
     "execution_count": 39,
     "metadata": {},
     "output_type": "execute_result"
    }
   ],
   "source": [
    "mcm(5,8)"
   ]
  },
  {
   "cell_type": "code",
   "execution_count": 34,
   "metadata": {},
   "outputs": [
    {
     "name": "stdout",
     "output_type": "stream",
     "text": [
      "Introduce primer número:40\n",
      "Introduce segundo número:60\n",
      "El minimo comun multiplo de  40  y  60  es 20\n"
     ]
    }
   ],
   "source": [
    "#El máximo común divisor de dos o más números es el número más grande que los divide.\n",
    "#Para poder hallar el MCD se hace una descomposición en factores primos, se observan los divisores de ambos y aquellos que tienen en común se multiplican.\n",
    "\n",
    "def MCD(x,y):\n",
    "    if y==0:\n",
    "        return x\n",
    "    else:\n",
    "        return MCD(y,x%y)\n",
    "x=int(input(\"Introduce primer número:\"))\n",
    "y=int(input(\"Introduce segundo número:\"))\n",
    "\n",
    "print(\"El minimo comun multiplo de \",x,\" y \",y,\" es\", MCD(x,y))"
   ]
  },
  {
   "cell_type": "code",
   "execution_count": 35,
   "metadata": {},
   "outputs": [
    {
     "data": {
      "text/plain": [
       "20"
      ]
     },
     "execution_count": 35,
     "metadata": {},
     "output_type": "execute_result"
    }
   ],
   "source": [
    "MCD(40,60)"
   ]
  },
  {
   "cell_type": "code",
   "execution_count": 1,
   "metadata": {},
   "outputs": [],
   "source": [
    "#Los factores primos de un número entero son los números primos divisores exactos de ese número entero. \n",
    "#El proceso de búsqueda de esos divisores se denomina factorización de enteros, o factorización de primos.\n",
    "\n",
    "def theoremArihrmetic(n):               \n",
    "    i=2\n",
    "    factores=[]\n",
    "    while i*i <= n:\n",
    "        if n%i:\n",
    "            i+=1\n",
    "        else:\n",
    "            n//=i\n",
    "            factores.append(i)\n",
    "    if n>1:\n",
    "        factores.append(n)\n",
    "    return factores"
   ]
  },
  {
   "cell_type": "code",
   "execution_count": 2,
   "metadata": {},
   "outputs": [
    {
     "data": {
      "text/plain": [
       "[2, 2, 3, 11]"
      ]
     },
     "execution_count": 2,
     "metadata": {},
     "output_type": "execute_result"
    }
   ],
   "source": [
    "theoremArihrmetic(132)"
   ]
  },
  {
   "cell_type": "code",
   "execution_count": 3,
   "metadata": {},
   "outputs": [],
   "source": [
    "def testPrime(n):      #Utilizamos la definición testPrime()\n",
    "    if n==2:\n",
    "        return True\n",
    "    if n%2==0:\n",
    "        return False\n",
    "    i=3\n",
    "    while i**2<=n:\n",
    "        if n%i==0:\n",
    "            return False\n",
    "        i=i+2\n",
    "    return True\n",
    "def twinsprime(inicio, fin):     #Calculamos los pares de numeros primos en un intervalo\n",
    "    for i in range(inicio, fin):\n",
    "        j=i+2\n",
    "        if(testPrime(i) and testPrime(j)):\n",
    "            print((\"{:d} y {:d}\".format(i,j)))\n"
   ]
  },
  {
   "cell_type": "code",
   "execution_count": 4,
   "metadata": {},
   "outputs": [
    {
     "name": "stdout",
     "output_type": "stream",
     "text": [
      "1 y 3\n",
      "3 y 5\n",
      "5 y 7\n",
      "11 y 13\n",
      "17 y 19\n",
      "29 y 31\n",
      "41 y 43\n",
      "59 y 61\n",
      "71 y 73\n",
      "101 y 103\n",
      "107 y 109\n",
      "137 y 139\n",
      "149 y 151\n",
      "179 y 181\n",
      "191 y 193\n",
      "197 y 199\n",
      "227 y 229\n",
      "239 y 241\n",
      "269 y 271\n",
      "281 y 283\n",
      "311 y 313\n",
      "347 y 349\n"
     ]
    }
   ],
   "source": [
    "twinsprime(0,350)"
   ]
  },
  {
   "cell_type": "code",
   "execution_count": null,
   "metadata": {},
   "outputs": [],
   "source": []
  }
 ],
 "metadata": {
  "kernelspec": {
   "display_name": "Python 3",
   "language": "python",
   "name": "python3"
  },
  "language_info": {
   "codemirror_mode": {
    "name": "ipython",
    "version": 3
   },
   "file_extension": ".py",
   "mimetype": "text/x-python",
   "name": "python",
   "nbconvert_exporter": "python",
   "pygments_lexer": "ipython3",
   "version": "3.7.1"
  }
 },
 "nbformat": 4,
 "nbformat_minor": 2
}
