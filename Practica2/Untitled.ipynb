{
 "cells": [
  {
   "cell_type": "code",
   "execution_count": 5,
   "metadata": {},
   "outputs": [],
   "source": [
    "def testPrime(n):\n",
    "    if n<2:\n",
    "        return False\n",
    "    elif n==2:\n",
    "        return True\n",
    "    \n",
    "    else:\n",
    "        for i in range(2,n):\n",
    "            if n%i==0:\n",
    "                return False\n",
    "            elif(n==i+1):\n",
    "                return True\n",
    "            "
   ]
  },
  {
   "cell_type": "code",
   "execution_count": 6,
   "metadata": {},
   "outputs": [
    {
     "data": {
      "text/plain": [
       "False"
      ]
     },
     "execution_count": 6,
     "metadata": {},
     "output_type": "execute_result"
    }
   ],
   "source": [
    "testPrime(6)"
   ]
  },
  {
   "cell_type": "code",
   "execution_count": 7,
   "metadata": {},
   "outputs": [
    {
     "name": "stdout",
     "output_type": "stream",
     "text": [
      "Introduce primer número:5\n",
      "Introduce segundo número:10\n",
      "El minimo comun multiplo de  5  y  10  es 10\n"
     ]
    }
   ],
   "source": [
    "def mcm(x,y):\n",
    "    if x>y:\n",
    "        mayor=x\n",
    "    else:\n",
    "        mayor=y\n",
    "    while(True):\n",
    "        if((mayor%x==0)and(mayor%y==0)):\n",
    "            mcm=mayor\n",
    "            break\n",
    "        mayor+=1\n",
    "    return mcm\n",
    "n1=int(input(\"Introduce primer número:\"))\n",
    "n2=int(input(\"Introduce segundo número:\"))\n",
    "\n",
    "print(\"El minimo comun multiplo de \",n1,\" y \",n2,\" es\", mcm(n1,n2))"
   ]
  },
  {
   "cell_type": "code",
   "execution_count": 8,
   "metadata": {},
   "outputs": [
    {
     "name": "stdout",
     "output_type": "stream",
     "text": [
      "Introduce primer número:2\n",
      "Introduce segundo número:5\n",
      "El minimo comun multiplo de  2  y  5  es 1\n"
     ]
    }
   ],
   "source": [
    "def MCD(x,y):\n",
    "    residuo=0\n",
    "    while(y>0):\n",
    "        residuo = y\n",
    "        y = x%y\n",
    "        x = residuo\n",
    "    return x\n",
    "n1=int(input(\"Introduce primer número:\"))\n",
    "n2=int(input(\"Introduce segundo número:\"))\n",
    "\n",
    "print(\"El minimo comun multiplo de \",n1,\" y \",n2,\" es\", MCD(n1,n2))"
   ]
  },
  {
   "cell_type": "code",
   "execution_count": null,
   "metadata": {},
   "outputs": [],
   "source": []
  }
 ],
 "metadata": {
  "kernelspec": {
   "display_name": "Python 3",
   "language": "python",
   "name": "python3"
  },
  "language_info": {
   "codemirror_mode": {
    "name": "ipython",
    "version": 3
   },
   "file_extension": ".py",
   "mimetype": "text/x-python",
   "name": "python",
   "nbconvert_exporter": "python",
   "pygments_lexer": "ipython3",
   "version": "3.7.1"
  }
 },
 "nbformat": 4,
 "nbformat_minor": 2
}
