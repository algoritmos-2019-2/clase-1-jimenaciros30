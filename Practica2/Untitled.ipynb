{
 "cells": [
  {
   "cell_type": "code",
   "execution_count": 1,
   "metadata": {},
   "outputs": [],
   "source": [
    "def testPrime(n):\n",
    "    if n==2:\n",
    "        return True\n",
    "    if n%2==0:\n",
    "        return False\n",
    "    i=3\n",
    "    while i**2<=n:\n",
    "        if n%i==0:\n",
    "            return False\n",
    "        i=i+2\n",
    "    return True\n",
    "            "
   ]
  },
  {
   "cell_type": "code",
   "execution_count": 2,
   "metadata": {},
   "outputs": [
    {
     "data": {
      "text/plain": [
       "False"
      ]
     },
     "execution_count": 2,
     "metadata": {},
     "output_type": "execute_result"
    }
   ],
   "source": [
    "testPrime(9)"
   ]
  },
  {
   "cell_type": "code",
   "execution_count": null,
   "metadata": {},
   "outputs": [
    {
     "name": "stdout",
     "output_type": "stream",
     "text": [
      "Introduce número3\n"
     ]
    }
   ],
   "source": [
    "def prime(n):\n",
    "    testPrime(n)\n",
    "n=int(input(\"Introduce número\"))\n",
    "primo=2\n",
    "count=1\n",
    "while count<=n:\n",
    "    if prime(primo):\n",
    "        print (count, primo)\n",
    "        count = count+1\n",
    "    primo=primo+1"
   ]
  },
  {
   "cell_type": "code",
   "execution_count": 3,
   "metadata": {},
   "outputs": [
    {
     "name": "stdout",
     "output_type": "stream",
     "text": [
      "Introduce primer número:2\n",
      "Introduce segundo número:3\n",
      "El minimo comun multiplo de  2  y  3  es 6\n"
     ]
    }
   ],
   "source": [
    "def mcm(x,y):\n",
    "    if x>y:\n",
    "        mayor=x\n",
    "    else:\n",
    "        mayor=y\n",
    "    while(True):\n",
    "        if((mayor%x==0)and(mayor%y==0)):\n",
    "            mcm=mayor\n",
    "            break\n",
    "        mayor+=1\n",
    "    return mcm\n",
    "n1=int(input(\"Introduce primer número:\"))\n",
    "n2=int(input(\"Introduce segundo número:\"))\n",
    "\n",
    "print(\"El minimo comun multiplo de \",n1,\" y \",n2,\" es\", mcm(n1,n2))"
   ]
  },
  {
   "cell_type": "code",
   "execution_count": 5,
   "metadata": {},
   "outputs": [
    {
     "name": "stdout",
     "output_type": "stream",
     "text": [
      "Introduce primer número:5\n",
      "Introduce segundo número:10\n",
      "El minimo comun multiplo de  5  y  10  es 5\n"
     ]
    }
   ],
   "source": [
    "def MCD(x,y):\n",
    "    residuo=0\n",
    "    while(y>0):\n",
    "        residuo = y\n",
    "        y = x%y\n",
    "        x = residuo\n",
    "    return x\n",
    "n1=int(input(\"Introduce primer número:\"))\n",
    "n2=int(input(\"Introduce segundo número:\"))\n",
    "\n",
    "print(\"El minimo comun multiplo de \",n1,\" y \",n2,\" es\", MCD(n1,n2))"
   ]
  }
 ],
 "metadata": {
  "kernelspec": {
   "display_name": "Python 3",
   "language": "python",
   "name": "python3"
  },
  "language_info": {
   "codemirror_mode": {
    "name": "ipython",
    "version": 3
   },
   "file_extension": ".py",
   "mimetype": "text/x-python",
   "name": "python",
   "nbconvert_exporter": "python",
   "pygments_lexer": "ipython3",
   "version": "3.7.1"
  }
 },
 "nbformat": 4,
 "nbformat_minor": 2
}
